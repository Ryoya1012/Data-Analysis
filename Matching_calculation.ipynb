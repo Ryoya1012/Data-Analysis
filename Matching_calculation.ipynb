{
  "nbformat": 4,
  "nbformat_minor": 0,
  "metadata": {
    "colab": {
      "provenance": [],
      "authorship_tag": "ABX9TyMmHtSW4cDPY8qUcBVlvZCw",
      "include_colab_link": true
    },
    "kernelspec": {
      "name": "python3",
      "display_name": "Python 3"
    },
    "language_info": {
      "name": "python"
    }
  },
  "cells": [
    {
      "cell_type": "markdown",
      "metadata": {
        "id": "view-in-github",
        "colab_type": "text"
      },
      "source": [
        "<a href=\"https://colab.research.google.com/github/Ryoya1012/Data-Analysis/blob/main/Matching_calculation.ipynb\" target=\"_parent\"><img src=\"https://colab.research.google.com/assets/colab-badge.svg\" alt=\"Open In Colab\"/></a>"
      ]
    },
    {
      "cell_type": "code",
      "execution_count": null,
      "metadata": {
        "id": "2GoFyGgw43iY"
      },
      "outputs": [],
      "source": [
        "import numpy as np\n",
        "import pandas as pd\n",
        "\n",
        "# データの読み込み（Excelファイルから）\n",
        "file_path = '750N-7(fix).xlsx'  # 読み込むExcelファイルのパス\n",
        "df = pd.read_excel(file_path, sheet_name='Sheet1')  # シート名を指定\n",
        "\n",
        "# 理論値と実測値を取得（列名は適宜変更してください）\n",
        "theoretical = df['Theoretical']\n",
        "measured = df['Actual']\n",
        "\n",
        "# 許容範囲の設定（例えば±10)\n",
        "tolerance_percentage = 0.1\n",
        "\n",
        "# 一致したデータ点の数を計算\n",
        "# 理論値と実測値の差が許容範囲内にあるデータ点をカウント\n",
        "matches = np.abs(measured - theoretical) <= (tolerance_percentage * measured)\n",
        "\n",
        "# 一致率の計算\n",
        "一致したデータ点の数 = np.sum(matches)\n",
        "総データ点の数 = len(measured)\n",
        "一致率 = (一致したデータ点の数 / 総データ点の数) * 100\n",
        "\n",
        "# 結果を表示\n",
        "print(f\"一致したデータ点の数: {一致したデータ点の数}\")\n",
        "print(f\"総データ点の数: {総データ点の数}\")\n",
        "print(f\"一致率: {一致率:.2f}%\")\n"
      ]
    }
  ]
}