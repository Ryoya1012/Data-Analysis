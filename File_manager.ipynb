{
  "cells": [
    {
      "cell_type": "markdown",
      "metadata": {
        "id": "view-in-github",
        "colab_type": "text"
      },
      "source": [
        "<a href=\"https://colab.research.google.com/github/Ryoya1012/Data-Analysis/blob/main/File_manager.ipynb\" target=\"_parent\"><img src=\"https://colab.research.google.com/assets/colab-badge.svg\" alt=\"Open In Colab\"/></a>"
      ]
    },
    {
      "cell_type": "code",
      "source": [
        "import pandas as pd\n",
        "\n",
        "# エクセルファイルの読み込み（ヘッダーなしで読み込み）\n",
        "excel_file = 'Right_3.xlsx'  # エクセルファイルのパスを指定してください\n",
        "df = pd.read_excel(excel_file, header=None)\n",
        "\n",
        "# A列とB列を取得 -> Tension用\n",
        "df_tension = df.iloc[:, [0, 1]].copy()  # A列（0番目）とB列（1番目）\n",
        "\n",
        "# C列とD列を取得 -> Force用\n",
        "df_force = df.iloc[:, [2, 3]].copy()  # C列（2番目）とD列（3番目）\n",
        "\n",
        "# A列とB列のデータをTension.csvとして保存\n",
        "df_tension.to_csv('Torque.csv', index=False, header=['Time', 'Value'])\n",
        "\n",
        "# C列とD列のデータをForce.csvとして保存\n",
        "df_force.to_csv('Current.csv', index=False, header=['Time', 'Value'])\n",
        "\n",
        "print(\"Tension.csv と Force.csv が作成されました。\")\n"
      ],
      "metadata": {
        "id": "S99bFjQQzyXe"
      },
      "execution_count": null,
      "outputs": []
    }
  ],
  "metadata": {
    "colab": {
      "provenance": [],
      "include_colab_link": true
    },
    "kernelspec": {
      "display_name": "Python 3",
      "name": "python3"
    }
  },
  "nbformat": 4,
  "nbformat_minor": 0
}