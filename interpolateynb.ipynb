{
  "nbformat": 4,
  "nbformat_minor": 0,
  "metadata": {
    "colab": {
      "provenance": [],
      "authorship_tag": "ABX9TyMojcZP2avlE0GS9g2AlYeY",
      "include_colab_link": true
    },
    "kernelspec": {
      "name": "python3",
      "display_name": "Python 3"
    },
    "language_info": {
      "name": "python"
    }
  },
  "cells": [
    {
      "cell_type": "markdown",
      "metadata": {
        "id": "view-in-github",
        "colab_type": "text"
      },
      "source": [
        "<a href=\"https://colab.research.google.com/github/Ryoya1012/Data-Analysis/blob/main/interpolateynb.ipynb\" target=\"_parent\"><img src=\"https://colab.research.google.com/assets/colab-badge.svg\" alt=\"Open In Colab\"/></a>"
      ]
    },
    {
      "cell_type": "code",
      "execution_count": null,
      "metadata": {
        "id": "Rlbl1GwKbmIJ"
      },
      "outputs": [],
      "source": [
        "import pandas as pd\n",
        "import numpy as np\n",
        "import matplotlib.pyplot as plt\n",
        "\n",
        "# エクセルファイルの読み込み\n",
        "file_path = 'まとめ.xlsx'  # ここをエクセルファイルのパスに置き換えてください\n",
        "data = pd.read_excel(file_path)\n",
        "\n",
        "# データの取得\n",
        "data2 = data['Data2'].values\n",
        "data1 = data['Data1'].values\n",
        "data4 = data['Data4'].values\n",
        "data3 = data['Data3'].values\n",
        "data6 = data['Data6'].values\n",
        "data5 = data['Data5'].values\n",
        "\n",
        "# データのクリーニング関数を定義\n",
        "def clean_data(x, y):\n",
        "    # NaN, inf のチェックと削除\n",
        "    df = pd.DataFrame({'x': x, 'y': y})\n",
        "    df = df.dropna()  # 欠損値を削除\n",
        "    df = df.replace([np.inf, -np.inf], np.nan)  # 無限大をNaNに置き換え\n",
        "    df = df.dropna()  # 再度欠損値を削除\n",
        "\n",
        "    # xの値が全く同じか、yの値が全く同じでないかを確認\n",
        "    if len(df['x'].unique()) == 1 or len(df['y'].unique()) == 1:\n",
        "        raise ValueError(\"データにバリエーションがなく、線形回帰ができません。\")\n",
        "\n",
        "    return df['x'].values, df['y'].values\n",
        "\n",
        "# 切片を0に固定した線形回帰を行う関数\n",
        "def linear_fit_with_zero_intercept(x, y):\n",
        "    # 最小二乗法で傾きを計算（切片を0に固定）\n",
        "    a = np.sum(x * y) / np.sum(x * x)\n",
        "    return a\n",
        "\n",
        "# 散布図と1次近似の計算を行う関数\n",
        "def plot_and_fit(x, y, label):\n",
        "    try:\n",
        "        # データをクリーンアップ\n",
        "        x_clean, y_clean = clean_data(x, y)\n",
        "\n",
        "        # 散布図を描画\n",
        "        plt.scatter(x_clean, y_clean, label=f'Scatter {label}')\n",
        "\n",
        "        # 1次近似（切片0で線形回帰）の計算\n",
        "        slope = linear_fit_with_zero_intercept(x_clean, y_clean)\n",
        "\n",
        "        # 近似線を描画\n",
        "        x_range = np.linspace(min(x_clean), max(x_clean), 500)\n",
        "        plt.plot(x_range, slope * x_range, label=f'Fit {label}: y = {slope:.2f}x')\n",
        "\n",
        "        # 近似式を表示\n",
        "        print(f'{label} の1次近似式 (切片0固定): y = {slope:.2f}x')\n",
        "    except ValueError as e:\n",
        "        print(f'{label} のデータに問題があります: {e}')\n",
        "\n",
        "# 図の設定\n",
        "plt.figure(figsize=(12, 8))\n",
        "plot_and_fit(data2, data1, '(Data2, Data1)')\n",
        "plot_and_fit(data4, data3, '(Data4, Data3)')\n",
        "plot_and_fit(data6, data5, '(Data6, Data5)')\n",
        "\n",
        "# グラフの装飾\n",
        "plt.title('Scatter Plots with Linear Fit (Zero Intercept)')\n",
        "plt.xlabel('X values')\n",
        "plt.ylabel('Y values')\n",
        "plt.legend()\n",
        "plt.grid(True)\n",
        "plt.savefig('scatter_plot_with_fit.png', dpi=300)\n",
        "plt.show()\n"
      ]
    }
  ]
}