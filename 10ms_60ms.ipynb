{
  "nbformat": 4,
  "nbformat_minor": 0,
  "metadata": {
    "colab": {
      "provenance": [],
      "authorship_tag": "ABX9TyOzc7fi2zAzGzMDrSaxkqC5",
      "include_colab_link": true
    },
    "kernelspec": {
      "name": "python3",
      "display_name": "Python 3"
    },
    "language_info": {
      "name": "python"
    }
  },
  "cells": [
    {
      "cell_type": "markdown",
      "metadata": {
        "id": "view-in-github",
        "colab_type": "text"
      },
      "source": [
        "<a href=\"https://colab.research.google.com/github/Ryoya1012/Data-Analysis/blob/main/10ms_60ms.ipynb\" target=\"_parent\"><img src=\"https://colab.research.google.com/assets/colab-badge.svg\" alt=\"Open In Colab\"/></a>"
      ]
    },
    {
      "cell_type": "code",
      "execution_count": null,
      "metadata": {
        "id": "OjV05DGuceHq"
      },
      "outputs": [],
      "source": [
        "import pandas as pd\n",
        "from scipy.interpolate import interp1d\n",
        "import numpy as np\n",
        "\n",
        "# エクセルファイルの読み込み\n",
        "file_path = 'Left_test1.xlsx'  # ここをエクセルファイルのパスに置き換えてください\n",
        "data = pd.read_excel(file_path)\n",
        "\n",
        "# データの取得\n",
        "time1 = data['Time1'].values  # 10msのサンプリングレートのデータ\n",
        "data1 = data['Data1'].values\n",
        "time2 = data['Time2'].values  # 60msのサンプリングレートのデータ\n",
        "data2 = data['Data2'].values\n",
        "\n",
        "# 重複と欠損値のチェックと除去\n",
        "def clean_data(time, data):\n",
        "    df = pd.DataFrame({'Time': time, 'Data': data})\n",
        "    df = df.drop_duplicates(subset='Time')\n",
        "    df = df.dropna()\n",
        "    df = df[df['Time'] != np.inf]\n",
        "    df = df[df['Data'] != np.inf]\n",
        "    return df['Time'].values, df['Data'].values\n",
        "\n",
        "time1, data1 = clean_data(time1, data1)\n",
        "time2, data2 = clean_data(time2, data2)\n",
        "\n",
        "# 時間の共通軸を作成 (10msのサンプリングレートで共通軸を作成)\n",
        "start_time = max(min(time1), min(time2))\n",
        "end_time = min(max(time1), max(time2))\n",
        "sampling_rate = 0.01  # 10ms (0.01秒)\n",
        "common_time = np.arange(start_time, end_time, sampling_rate)\n",
        "\n",
        "# アップサンプリングのための補間関数を作成\n",
        "interp_data1 = interp1d(time1, data1, kind='linear', fill_value=\"extrapolate\")\n",
        "interp_data2 = interp1d(time2, data2, kind='linear', fill_value=\"extrapolate\")\n",
        "\n",
        "# 共通時間軸に合わせてデータを補間\n",
        "upsampled_data1 = interp_data1(common_time)\n",
        "upsampled_data2 = interp_data2(common_time)\n",
        "\n",
        "# 結果をデータフレームにまとめる\n",
        "result_df = pd.DataFrame({\n",
        "    'Common Time': common_time,\n",
        "    'Upsampled Data1': upsampled_data1,\n",
        "    'Upsampled Data2': upsampled_data2\n",
        "})\n",
        "\n",
        "# 結果をエクセルファイルに保存\n",
        "result_df.to_excel('Left2_fix.xlsx', index=False)\n"
      ]
    }
  ]
}