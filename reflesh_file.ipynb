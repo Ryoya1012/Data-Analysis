{
  "nbformat": 4,
  "nbformat_minor": 0,
  "metadata": {
    "colab": {
      "provenance": [],
      "authorship_tag": "ABX9TyPwObTWQ8UPGLCGX4zD66cn",
      "include_colab_link": true
    },
    "kernelspec": {
      "name": "python3",
      "display_name": "Python 3"
    },
    "language_info": {
      "name": "python"
    }
  },
  "cells": [
    {
      "cell_type": "markdown",
      "metadata": {
        "id": "view-in-github",
        "colab_type": "text"
      },
      "source": [
        "<a href=\"https://colab.research.google.com/github/Ryoya1012/Data-Analysis/blob/main/reflesh_file.ipynb\" target=\"_parent\"><img src=\"https://colab.research.google.com/assets/colab-badge.svg\" alt=\"Open In Colab\"/></a>"
      ]
    },
    {
      "cell_type": "code",
      "execution_count": null,
      "metadata": {
        "id": "zI-ei4PodCRT"
      },
      "outputs": [],
      "source": [
        "import pandas as pd\n",
        "import matplotlib.pyplot as plt\n",
        "import numpy as np\n",
        "from scipy.stats import gaussian_kde\n",
        "import os  # Import os for file existence check\n",
        "\n",
        "#sheet_name = '定常期'\n",
        "#Tension = 1.7\n",
        "parcent = 50\n",
        "result_csv_path = f'F:\\\\New_test\\\\Traction_test\\\\Selection\\\\density_results_all(定常期50%).csv'\n",
        "result = f'F:\\\\New_test\\\\Traction_test\\\\Selection\\\\density_results_all(定常期50%).png'\n",
        "\n",
        "file_paths_group = [\n",
        "    f'F:\\\\New_test\\\\Traction_test\\\\Selection\\\\250N\\\\density_results250.csv',\n",
        "    f'F:\\\\New_test\\\\Traction_test\\\\Selection\\\\500N\\\\density_results500.csv',\n",
        "    f'F:\\\\New_test\\\\Traction_test\\\\Selection\\\\750N\\\\density_results750.csv',\n",
        "    f'F:\\\\New_test\\\\Traction_test\\\\Selection\\\\900N\\\\density_results900.csv',\n",
        "    f'F:\\\\New_test\\\\Traction_test\\\\Selection\\\\1.1kN\\\\density_results1.1kN.csv',\n",
        "    f'F:\\\\New_test\\\\Traction_test\\\\Selection\\\\1.2kN\\\\density_results1.2kN.csv',\n",
        "    f'F:\\\\New_test\\\\Traction_test\\\\Selection\\\\1.3kN\\\\density_results1.3kN.csv',\n",
        "    f'F:\\\\New_test\\\\Traction_test\\\\Selection\\\\1.4kN\\\\density_results1.4kN.csv',\n",
        "    f'F:\\\\New_test\\\\Traction_test\\\\Selection\\\\1.5kN\\\\density_results1.5kN.csv',\n",
        "    f'F:\\\\New_test\\\\Traction_test\\\\Selection\\\\1.6kN\\\\density_results1.6kN.csv',\n",
        "    f'F:\\\\New_test\\\\Traction_test\\\\Selection\\\\1.7kN\\\\density_results1.7kN.csv',\n",
        "]\n",
        "\n",
        "all_file_paths = file_paths_group\n",
        "df_list = []\n",
        "\n",
        "# Load the data from the Excel files, skipping any missing files\n",
        "for file_path in all_file_paths:\n",
        "    try:\n",
        "        if os.path.exists(file_path):  # Check if the file exists\n",
        "            df = pd.read_csv(file_path)\n",
        "            df_list.append(df[['Tension', 'Force']])\n",
        "        else:\n",
        "            print(f\"File not found: {file_path}\")\n",
        "    except Exception as e:\n",
        "        print(f\"Error reading {file_path}: {e}\")\n",
        "\n",
        "# Combine all DataFrames into one if there are any valid files\n",
        "if df_list:\n",
        "    combined_df = pd.concat(df_list, ignore_index=True)\n",
        "\n",
        "    # Extract Tension and Force\n",
        "    x = combined_df['Tension']\n",
        "    y = combined_df['Force']\n",
        "\n",
        "    # Perform kernel density estimation\n",
        "    xy = np.vstack([x, y])\n",
        "    density = gaussian_kde(xy)(xy)\n",
        "\n",
        "    # Determine the density threshold\n",
        "    density_threshold = np.percentile(density, parcent)\n",
        "    x_dense = x[density >= density_threshold]\n",
        "    y_dense = y[density >= density_threshold]\n",
        "\n",
        "    # Create a DataFrame for the results\n",
        "    result_df = pd.DataFrame({'Tension': x_dense, 'Force': y_dense})\n",
        "\n",
        "    # Save the results to a CSV file\n",
        "    result_df.to_csv(result_csv_path, index=False)\n",
        "\n",
        "    print(f\"Results saved to {result_csv_path}\")\n",
        "\n",
        "    # Create a scatter plot of the filtered results\n",
        "    plt.figure(figsize=(10, 6))\n",
        "    plt.scatter(x_dense, y_dense, color='blue', alpha=0.5, label='Filtered Data Points')\n",
        "    plt.title(f'Scatter Plot of Filtered Data (Tension:N)')\n",
        "    plt.xlabel('Tension')\n",
        "    plt.ylabel('Force')\n",
        "    plt.grid(True)\n",
        "    plt.legend()\n",
        "    plt.savefig(result)\n",
        "    plt.show()\n",
        "else:\n",
        "    print(\"No valid data files were found.\")\n"
      ]
    }
  ]
}