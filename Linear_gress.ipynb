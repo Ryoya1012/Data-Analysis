{
  "nbformat": 4,
  "nbformat_minor": 0,
  "metadata": {
    "colab": {
      "provenance": [],
      "authorship_tag": "ABX9TyM39F2x0EH6kRAgOgGF/szp",
      "include_colab_link": true
    },
    "kernelspec": {
      "name": "python3",
      "display_name": "Python 3"
    },
    "language_info": {
      "name": "python"
    }
  },
  "cells": [
    {
      "cell_type": "markdown",
      "metadata": {
        "id": "view-in-github",
        "colab_type": "text"
      },
      "source": [
        "<a href=\"https://colab.research.google.com/github/Ryoya1012/Data-Analysis/blob/main/Linear_gress.ipynb\" target=\"_parent\"><img src=\"https://colab.research.google.com/assets/colab-badge.svg\" alt=\"Open In Colab\"/></a>"
      ]
    },
    {
      "cell_type": "code",
      "execution_count": null,
      "metadata": {
        "id": "jSEqTdtS52Yc"
      },
      "outputs": [],
      "source": [
        "import pandas as pd\n",
        "import numpy as np\n",
        "import matplotlib.pyplot as plt\n",
        "from scipy import stats\n",
        "\n",
        "#csvファイルからデータを読み込む\n",
        "data = pd.read_csv('resampled_data1.csv')\n",
        "\n",
        "x = data['Original_10ms']\n",
        "y = data['Resampled_100ms_to_10ms']\n",
        "\n",
        "#相関係数算出\n",
        "correlation_coefficient = x.corr(y)\n",
        "print(f\"相関係数:{correlation_coefficient:.4f}\")\n",
        "\n",
        "#線形回帰の計算\n",
        "slope, intercept, r_value, p_value, std_err = stats.linregress(x, y)\n",
        "\n",
        "#決定係数を計算\n",
        "r_squared = r_value**2\n",
        "print(f\"決定係数(R2):{r_squared:.4f}\")\n",
        "\n",
        "#近似直線のy値を計算\n",
        "y_fit = slope*x + intercept\n",
        "\n",
        "#散布図の作成\n",
        "plt.figure(figsize=(8, 6))\n",
        "plt.scatter(x, y, label='データ', color='blue', alpha=0.6)\n",
        "plt.plot(x, y_fit, label=f'近似直線(R2={r_squared:.4f})', color='red')\n",
        "\n",
        "#グラフのタイトルとラベル\n",
        "plt.title('散布図と近似直線', fontsize=16)\n",
        "plt.xlabel('Original_10ms', fonrsize=14)\n",
        "plt.ylabel('Resampled_100ms_to_10ms', fontsize=14)\n",
        "plt.legend()\n",
        "\n",
        "#グラフを表示\n",
        "plt.grid(True)\n",
        "plt.show()"
      ]
    }
  ]
}