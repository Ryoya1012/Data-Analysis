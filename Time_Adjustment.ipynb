{
  "nbformat": 4,
  "nbformat_minor": 0,
  "metadata": {
    "colab": {
      "provenance": [],
      "authorship_tag": "ABX9TyMhEEe1mBLApN3cqJLAd1uk",
      "include_colab_link": true
    },
    "kernelspec": {
      "name": "python3",
      "display_name": "Python 3"
    },
    "language_info": {
      "name": "python"
    }
  },
  "cells": [
    {
      "cell_type": "markdown",
      "metadata": {
        "id": "view-in-github",
        "colab_type": "text"
      },
      "source": [
        "<a href=\"https://colab.research.google.com/github/Ryoya1012/Data-Analysis/blob/main/Time_Adjustment.ipynb\" target=\"_parent\"><img src=\"https://colab.research.google.com/assets/colab-badge.svg\" alt=\"Open In Colab\"/></a>"
      ]
    },
    {
      "cell_type": "code",
      "execution_count": null,
      "metadata": {
        "id": "_SKNgMCtY42y"
      },
      "outputs": [],
      "source": [
        "import pandas as pd\n",
        "import numpy as np\n",
        "\n",
        "# Excelファイルからデータを読み込む\n",
        "file_path = '750N-7.xlsx'  # 読み込むExcelファイルのパス\n",
        "output_file_path = '750N-7(fix).xlsx'  # 出力するExcelファイルのパス\n",
        "sheet1 = pd.read_excel(file_path, sheet_name='Sheet1')  # シート1からデータを読み込む\n",
        "\n",
        "# シートの内容を確認（オプション）\n",
        "print(sheet1.head())\n",
        "\n",
        "# 時間とデータを取得\n",
        "time1 = sheet1['Time1']  # シート1の時間列\n",
        "data1 = sheet1['Data1']  # シート1のデータ列\n",
        "time2 = sheet1['Time2']  # シート2の時間列\n",
        "data2 = sheet1['Data2']  # シート2のデータ列\n",
        "\n",
        "# 補間を用いてデータを整列\n",
        "# シート1の時間に合わせてシート2のデータを補間\n",
        "data2_interpolated = np.interp(time1, time2, data2)\n",
        "\n",
        "# 新しいデータフレームの作成\n",
        "aligned_data = pd.DataFrame({\n",
        "    'Time': time1,\n",
        "    'Theoretical': data1,\n",
        "    'Actual': data2_interpolated\n",
        "})\n",
        "\n",
        "# 新しいExcelファイルに書き出す\n",
        "aligned_data.to_excel(output_file_path, index=False)\n",
        "\n",
        "print(f\"整列されたデータが {output_file_path} に書き出されました。\")\n"
      ]
    }
  ]
}