{
  "nbformat": 4,
  "nbformat_minor": 0,
  "metadata": {
    "colab": {
      "provenance": [],
      "authorship_tag": "ABX9TyO9cixgrTSOmrHuMnJCTHQZ",
      "include_colab_link": true
    },
    "kernelspec": {
      "name": "python3",
      "display_name": "Python 3"
    },
    "language_info": {
      "name": "python"
    }
  },
  "cells": [
    {
      "cell_type": "markdown",
      "metadata": {
        "id": "view-in-github",
        "colab_type": "text"
      },
      "source": [
        "<a href=\"https://colab.research.google.com/github/Ryoya1012/Data-Analysis/blob/main/Data_Interpolate.ipynb\" target=\"_parent\"><img src=\"https://colab.research.google.com/assets/colab-badge.svg\" alt=\"Open In Colab\"/></a>"
      ]
    },
    {
      "cell_type": "code",
      "execution_count": null,
      "metadata": {
        "id": "kiS4JOpI1YxK"
      },
      "outputs": [],
      "source": [
        "import numpy as np\n",
        "import pandas as pd\n",
        "from scipy import interpolate\n",
        "\n",
        "# CSVファイルからデータをインポート\n",
        "data_10ms = pd.read_csv('Current.csv')\n",
        "data_100ms = pd.read_csv('Torque.csv')\n",
        "\n",
        "# 10msのタイムスタンプと値を抽出し、数値型に変換\n",
        "time_10ms = pd.to_numeric(data_10ms['Time'], errors='coerce').values\n",
        "values_10ms = pd.to_numeric(data_10ms['Value'], errors='coerce').values\n",
        "\n",
        "# 50msのタイムスタンプと値を抽出し、数値型に変換\n",
        "time_100ms = pd.to_numeric(data_100ms['Time'], errors='coerce').values\n",
        "values_100ms = pd.to_numeric(data_100ms['Value'], errors='coerce').values\n",
        "\n",
        "# 欠損値がないか確認し、NaNがあればデータを削除\n",
        "valid_10ms = ~np.isnan(time_10ms) & ~np.isnan(values_10ms)\n",
        "valid_100ms = ~np.isnan(time_100ms) & ~np.isnan(values_100ms)\n",
        "\n",
        "time_10ms = time_10ms[valid_10ms]\n",
        "values_10ms = values_10ms[valid_10ms]\n",
        "\n",
        "time_100ms = time_100ms[valid_100ms]\n",
        "values_100ms = values_100ms[valid_100ms]\n",
        "\n",
        "# 50msデータを10msのタイムスタンプに基づいてリサンプリング\n",
        "f_interpolate = interpolate.interp1d(time_100ms, values_100ms, kind='linear', fill_value=\"extrapolate\")\n",
        "\n",
        "# 10msのタイムスタンプに合わせて50msのデータをリサンプリング\n",
        "resampled_values_100ms_to_10ms = f_interpolate(time_10ms)\n",
        "\n",
        "# リサンプリングされたデータを新しいDataFrameに格納\n",
        "df_resampled = pd.DataFrame({\n",
        "    'Time': time_10ms,\n",
        "    'Original_10ms': values_10ms,\n",
        "    'Resampled_100ms_to_10ms': resampled_values_100ms_to_10ms\n",
        "})\n",
        "\n",
        "# リサンプリング結果をCSVファイルに保存\n",
        "df_resampled.to_csv('resampled_data3.csv', index=False)\n",
        "\n",
        "print(\"リサンプリングされたデータが 'resampled_data4.csv' に保存されました。\")\n"
      ]
    }
  ]
}