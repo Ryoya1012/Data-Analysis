{
  "nbformat": 4,
  "nbformat_minor": 0,
  "metadata": {
    "colab": {
      "provenance": [],
      "authorship_tag": "ABX9TyN6fAZoja+F6o+A+eGbGNAa",
      "include_colab_link": true
    },
    "kernelspec": {
      "name": "python3",
      "display_name": "Python 3"
    },
    "language_info": {
      "name": "python"
    }
  },
  "cells": [
    {
      "cell_type": "markdown",
      "metadata": {
        "id": "view-in-github",
        "colab_type": "text"
      },
      "source": [
        "<a href=\"https://colab.research.google.com/github/Ryoya1012/Data-Analysis/blob/main/lagrange_interpolate.ipynb\" target=\"_parent\"><img src=\"https://colab.research.google.com/assets/colab-badge.svg\" alt=\"Open In Colab\"/></a>"
      ]
    },
    {
      "cell_type": "code",
      "execution_count": null,
      "metadata": {
        "id": "oFIbmHGM7Vz-"
      },
      "outputs": [],
      "source": [
        "#2024_10_31\n",
        "#Author Ryoya SATO\n",
        "#All rights reserved\n",
        "\n",
        "import pandas as pd\n",
        "import numpy as np\n",
        "from scipy.interpolate import lagrange\n",
        "\n",
        "# データの読み込み\n",
        "i = 1\n",
        "Tension = 250\n",
        "tall = 10\n",
        "\n",
        "file_path = f'F:\\\\新試験(7月)\\\\牽引試験\\\\選抜\\\\{Tension}N\\\\{i}回\\\\{Tension}N-{i}.xlsx'\n",
        "output_file_path = f'F:\\\\新試験(7月)\\\\牽引試験\\\\選抜\\\\{Tension}N\\\\{i}回\\\\{Tension}N-{i}(force).xlsx'\n",
        "sheet_name = 'Ana1'\n",
        "data = pd.read_excel(file_path, sheet_name=sheet_name)\n",
        "\n",
        "# TensionとForceデータの取得\n",
        "time_tension = data['Time1'].values\n",
        "tension_values = data['Tension'].values\n",
        "time_force = data['Time2'].values\n",
        "force_values = data['Force'].values\n",
        "\n",
        "# 重複を削除した時間とTensionのデータを準備\n",
        "unique_time_tension, unique_indices = np.unique(time_tension, return_index=True)\n",
        "unique_tension_values = tension_values[unique_indices]\n",
        "\n",
        "# Tension データを Force のタイムスタンプに合わせてラグランジュ補間\n",
        "resampled_tension = []\n",
        "for t in time_force:\n",
        "    idx = np.abs(unique_time_tension - t).argsort()[:4]\n",
        "    if len(idx) < 4:\n",
        "        # 点が不足する場合の処理（必要に応じて調整）\n",
        "        resampled_tension.append(np.nan)\n",
        "        continue\n",
        "\n",
        "    poly = lagrange(unique_time_tension[idx], unique_tension_values[idx])\n",
        "    resampled_tension.append(poly(t))\n",
        "\n",
        "# 結果をデータフレームにまとめ、エクセルに保存\n",
        "result_df = pd.DataFrame({\n",
        "    'Time': time_force,\n",
        "    'Tension': resampled_tension,\n",
        "    'Force': force_values\n",
        "})\n",
        "\n",
        "result_df.to_excel(output_file_path, index=False)\n",
        "print(f\"ラグランジュ補間が完了しました。結果が {output_file_path} に保存されました。\")\n"
      ]
    }
  ]
}